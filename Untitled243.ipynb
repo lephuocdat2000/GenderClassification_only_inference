{
  "nbformat": 4,
  "nbformat_minor": 0,
  "metadata": {
    "colab": {
      "name": "Untitled243.ipynb",
      "provenance": [],
      "authorship_tag": "ABX9TyOdYb1ABz05bsMHSPu9t+wm",
      "include_colab_link": true
    },
    "kernelspec": {
      "name": "python3",
      "display_name": "Python 3"
    },
    "language_info": {
      "name": "python"
    }
  },
  "cells": [
    {
      "cell_type": "markdown",
      "metadata": {
        "id": "view-in-github",
        "colab_type": "text"
      },
      "source": [
        "<a href=\"https://colab.research.google.com/github/lephuocdat2000/GenderClassification_only_inference/blob/main/Untitled243.ipynb\" target=\"_parent\"><img src=\"https://colab.research.google.com/assets/colab-badge.svg\" alt=\"Open In Colab\"/></a>"
      ]
    },
    {
      "cell_type": "code",
      "source": [
        "!pip install mtcnn\n",
        "import mtcnn\n",
        "print(mtcnn.__version__)"
      ],
      "metadata": {
        "colab": {
          "base_uri": "https://localhost:8080/"
        },
        "id": "moqHeUmre40C",
        "outputId": "1fd7489c-eabc-4ccf-f3c2-4a31a28fecdf"
      },
      "execution_count": 9,
      "outputs": [
        {
          "output_type": "stream",
          "name": "stdout",
          "text": [
            "Collecting mtcnn\n",
            "  Downloading mtcnn-0.1.1-py3-none-any.whl (2.3 MB)\n",
            "\u001b[?25l\r\u001b[K     |▏                               | 10 kB 19.4 MB/s eta 0:00:01\r\u001b[K     |▎                               | 20 kB 23.7 MB/s eta 0:00:01\r\u001b[K     |▍                               | 30 kB 29.5 MB/s eta 0:00:01\r\u001b[K     |▋                               | 40 kB 24.0 MB/s eta 0:00:01\r\u001b[K     |▊                               | 51 kB 19.0 MB/s eta 0:00:01\r\u001b[K     |▉                               | 61 kB 13.7 MB/s eta 0:00:01\r\u001b[K     |█                               | 71 kB 12.4 MB/s eta 0:00:01\r\u001b[K     |█▏                              | 81 kB 13.6 MB/s eta 0:00:01\r\u001b[K     |█▎                              | 92 kB 15.0 MB/s eta 0:00:01\r\u001b[K     |█▌                              | 102 kB 15.4 MB/s eta 0:00:01\r\u001b[K     |█▋                              | 112 kB 15.4 MB/s eta 0:00:01\r\u001b[K     |█▊                              | 122 kB 15.4 MB/s eta 0:00:01\r\u001b[K     |█▉                              | 133 kB 15.4 MB/s eta 0:00:01\r\u001b[K     |██                              | 143 kB 15.4 MB/s eta 0:00:01\r\u001b[K     |██▏                             | 153 kB 15.4 MB/s eta 0:00:01\r\u001b[K     |██▎                             | 163 kB 15.4 MB/s eta 0:00:01\r\u001b[K     |██▌                             | 174 kB 15.4 MB/s eta 0:00:01\r\u001b[K     |██▋                             | 184 kB 15.4 MB/s eta 0:00:01\r\u001b[K     |██▊                             | 194 kB 15.4 MB/s eta 0:00:01\r\u001b[K     |███                             | 204 kB 15.4 MB/s eta 0:00:01\r\u001b[K     |███                             | 215 kB 15.4 MB/s eta 0:00:01\r\u001b[K     |███▏                            | 225 kB 15.4 MB/s eta 0:00:01\r\u001b[K     |███▍                            | 235 kB 15.4 MB/s eta 0:00:01\r\u001b[K     |███▌                            | 245 kB 15.4 MB/s eta 0:00:01\r\u001b[K     |███▋                            | 256 kB 15.4 MB/s eta 0:00:01\r\u001b[K     |███▊                            | 266 kB 15.4 MB/s eta 0:00:01\r\u001b[K     |████                            | 276 kB 15.4 MB/s eta 0:00:01\r\u001b[K     |████                            | 286 kB 15.4 MB/s eta 0:00:01\r\u001b[K     |████▏                           | 296 kB 15.4 MB/s eta 0:00:01\r\u001b[K     |████▍                           | 307 kB 15.4 MB/s eta 0:00:01\r\u001b[K     |████▌                           | 317 kB 15.4 MB/s eta 0:00:01\r\u001b[K     |████▋                           | 327 kB 15.4 MB/s eta 0:00:01\r\u001b[K     |████▉                           | 337 kB 15.4 MB/s eta 0:00:01\r\u001b[K     |█████                           | 348 kB 15.4 MB/s eta 0:00:01\r\u001b[K     |█████                           | 358 kB 15.4 MB/s eta 0:00:01\r\u001b[K     |█████▏                          | 368 kB 15.4 MB/s eta 0:00:01\r\u001b[K     |█████▍                          | 378 kB 15.4 MB/s eta 0:00:01\r\u001b[K     |█████▌                          | 389 kB 15.4 MB/s eta 0:00:01\r\u001b[K     |█████▋                          | 399 kB 15.4 MB/s eta 0:00:01\r\u001b[K     |█████▉                          | 409 kB 15.4 MB/s eta 0:00:01\r\u001b[K     |██████                          | 419 kB 15.4 MB/s eta 0:00:01\r\u001b[K     |██████                          | 430 kB 15.4 MB/s eta 0:00:01\r\u001b[K     |██████▎                         | 440 kB 15.4 MB/s eta 0:00:01\r\u001b[K     |██████▍                         | 450 kB 15.4 MB/s eta 0:00:01\r\u001b[K     |██████▌                         | 460 kB 15.4 MB/s eta 0:00:01\r\u001b[K     |██████▊                         | 471 kB 15.4 MB/s eta 0:00:01\r\u001b[K     |██████▉                         | 481 kB 15.4 MB/s eta 0:00:01\r\u001b[K     |███████                         | 491 kB 15.4 MB/s eta 0:00:01\r\u001b[K     |███████                         | 501 kB 15.4 MB/s eta 0:00:01\r\u001b[K     |███████▎                        | 512 kB 15.4 MB/s eta 0:00:01\r\u001b[K     |███████▍                        | 522 kB 15.4 MB/s eta 0:00:01\r\u001b[K     |███████▌                        | 532 kB 15.4 MB/s eta 0:00:01\r\u001b[K     |███████▊                        | 542 kB 15.4 MB/s eta 0:00:01\r\u001b[K     |███████▉                        | 552 kB 15.4 MB/s eta 0:00:01\r\u001b[K     |████████                        | 563 kB 15.4 MB/s eta 0:00:01\r\u001b[K     |████████▏                       | 573 kB 15.4 MB/s eta 0:00:01\r\u001b[K     |████████▎                       | 583 kB 15.4 MB/s eta 0:00:01\r\u001b[K     |████████▍                       | 593 kB 15.4 MB/s eta 0:00:01\r\u001b[K     |████████▌                       | 604 kB 15.4 MB/s eta 0:00:01\r\u001b[K     |████████▊                       | 614 kB 15.4 MB/s eta 0:00:01\r\u001b[K     |████████▉                       | 624 kB 15.4 MB/s eta 0:00:01\r\u001b[K     |█████████                       | 634 kB 15.4 MB/s eta 0:00:01\r\u001b[K     |█████████▏                      | 645 kB 15.4 MB/s eta 0:00:01\r\u001b[K     |█████████▎                      | 655 kB 15.4 MB/s eta 0:00:01\r\u001b[K     |█████████▍                      | 665 kB 15.4 MB/s eta 0:00:01\r\u001b[K     |█████████▋                      | 675 kB 15.4 MB/s eta 0:00:01\r\u001b[K     |█████████▊                      | 686 kB 15.4 MB/s eta 0:00:01\r\u001b[K     |█████████▉                      | 696 kB 15.4 MB/s eta 0:00:01\r\u001b[K     |██████████                      | 706 kB 15.4 MB/s eta 0:00:01\r\u001b[K     |██████████▏                     | 716 kB 15.4 MB/s eta 0:00:01\r\u001b[K     |██████████▎                     | 727 kB 15.4 MB/s eta 0:00:01\r\u001b[K     |██████████▍                     | 737 kB 15.4 MB/s eta 0:00:01\r\u001b[K     |██████████▋                     | 747 kB 15.4 MB/s eta 0:00:01\r\u001b[K     |██████████▊                     | 757 kB 15.4 MB/s eta 0:00:01\r\u001b[K     |██████████▉                     | 768 kB 15.4 MB/s eta 0:00:01\r\u001b[K     |███████████                     | 778 kB 15.4 MB/s eta 0:00:01\r\u001b[K     |███████████▏                    | 788 kB 15.4 MB/s eta 0:00:01\r\u001b[K     |███████████▎                    | 798 kB 15.4 MB/s eta 0:00:01\r\u001b[K     |███████████▌                    | 808 kB 15.4 MB/s eta 0:00:01\r\u001b[K     |███████████▋                    | 819 kB 15.4 MB/s eta 0:00:01\r\u001b[K     |███████████▊                    | 829 kB 15.4 MB/s eta 0:00:01\r\u001b[K     |███████████▉                    | 839 kB 15.4 MB/s eta 0:00:01\r\u001b[K     |████████████                    | 849 kB 15.4 MB/s eta 0:00:01\r\u001b[K     |████████████▏                   | 860 kB 15.4 MB/s eta 0:00:01\r\u001b[K     |████████████▎                   | 870 kB 15.4 MB/s eta 0:00:01\r\u001b[K     |████████████▌                   | 880 kB 15.4 MB/s eta 0:00:01\r\u001b[K     |████████████▋                   | 890 kB 15.4 MB/s eta 0:00:01\r\u001b[K     |████████████▊                   | 901 kB 15.4 MB/s eta 0:00:01\r\u001b[K     |█████████████                   | 911 kB 15.4 MB/s eta 0:00:01\r\u001b[K     |█████████████                   | 921 kB 15.4 MB/s eta 0:00:01\r\u001b[K     |█████████████▏                  | 931 kB 15.4 MB/s eta 0:00:01\r\u001b[K     |█████████████▍                  | 942 kB 15.4 MB/s eta 0:00:01\r\u001b[K     |█████████████▌                  | 952 kB 15.4 MB/s eta 0:00:01\r\u001b[K     |█████████████▋                  | 962 kB 15.4 MB/s eta 0:00:01\r\u001b[K     |█████████████▊                  | 972 kB 15.4 MB/s eta 0:00:01\r\u001b[K     |██████████████                  | 983 kB 15.4 MB/s eta 0:00:01\r\u001b[K     |██████████████                  | 993 kB 15.4 MB/s eta 0:00:01\r\u001b[K     |██████████████▏                 | 1.0 MB 15.4 MB/s eta 0:00:01\r\u001b[K     |██████████████▍                 | 1.0 MB 15.4 MB/s eta 0:00:01\r\u001b[K     |██████████████▌                 | 1.0 MB 15.4 MB/s eta 0:00:01\r\u001b[K     |██████████████▋                 | 1.0 MB 15.4 MB/s eta 0:00:01\r\u001b[K     |██████████████▉                 | 1.0 MB 15.4 MB/s eta 0:00:01\r\u001b[K     |███████████████                 | 1.1 MB 15.4 MB/s eta 0:00:01\r\u001b[K     |███████████████                 | 1.1 MB 15.4 MB/s eta 0:00:01\r\u001b[K     |███████████████▏                | 1.1 MB 15.4 MB/s eta 0:00:01\r\u001b[K     |███████████████▍                | 1.1 MB 15.4 MB/s eta 0:00:01\r\u001b[K     |███████████████▌                | 1.1 MB 15.4 MB/s eta 0:00:01\r\u001b[K     |███████████████▋                | 1.1 MB 15.4 MB/s eta 0:00:01\r\u001b[K     |███████████████▉                | 1.1 MB 15.4 MB/s eta 0:00:01\r\u001b[K     |████████████████                | 1.1 MB 15.4 MB/s eta 0:00:01\r\u001b[K     |████████████████                | 1.1 MB 15.4 MB/s eta 0:00:01\r\u001b[K     |████████████████▎               | 1.1 MB 15.4 MB/s eta 0:00:01\r\u001b[K     |████████████████▍               | 1.2 MB 15.4 MB/s eta 0:00:01\r\u001b[K     |████████████████▌               | 1.2 MB 15.4 MB/s eta 0:00:01\r\u001b[K     |████████████████▊               | 1.2 MB 15.4 MB/s eta 0:00:01\r\u001b[K     |████████████████▉               | 1.2 MB 15.4 MB/s eta 0:00:01\r\u001b[K     |█████████████████               | 1.2 MB 15.4 MB/s eta 0:00:01\r\u001b[K     |█████████████████               | 1.2 MB 15.4 MB/s eta 0:00:01\r\u001b[K     |█████████████████▎              | 1.2 MB 15.4 MB/s eta 0:00:01\r\u001b[K     |█████████████████▍              | 1.2 MB 15.4 MB/s eta 0:00:01\r\u001b[K     |█████████████████▌              | 1.2 MB 15.4 MB/s eta 0:00:01\r\u001b[K     |█████████████████▊              | 1.2 MB 15.4 MB/s eta 0:00:01\r\u001b[K     |█████████████████▉              | 1.3 MB 15.4 MB/s eta 0:00:01\r\u001b[K     |██████████████████              | 1.3 MB 15.4 MB/s eta 0:00:01\r\u001b[K     |██████████████████▏             | 1.3 MB 15.4 MB/s eta 0:00:01\r\u001b[K     |██████████████████▎             | 1.3 MB 15.4 MB/s eta 0:00:01\r\u001b[K     |██████████████████▍             | 1.3 MB 15.4 MB/s eta 0:00:01\r\u001b[K     |██████████████████▌             | 1.3 MB 15.4 MB/s eta 0:00:01\r\u001b[K     |██████████████████▊             | 1.3 MB 15.4 MB/s eta 0:00:01\r\u001b[K     |██████████████████▉             | 1.3 MB 15.4 MB/s eta 0:00:01\r\u001b[K     |███████████████████             | 1.3 MB 15.4 MB/s eta 0:00:01\r\u001b[K     |███████████████████▏            | 1.4 MB 15.4 MB/s eta 0:00:01\r\u001b[K     |███████████████████▎            | 1.4 MB 15.4 MB/s eta 0:00:01\r\u001b[K     |███████████████████▍            | 1.4 MB 15.4 MB/s eta 0:00:01\r\u001b[K     |███████████████████▋            | 1.4 MB 15.4 MB/s eta 0:00:01\r\u001b[K     |███████████████████▊            | 1.4 MB 15.4 MB/s eta 0:00:01\r\u001b[K     |███████████████████▉            | 1.4 MB 15.4 MB/s eta 0:00:01\r\u001b[K     |████████████████████            | 1.4 MB 15.4 MB/s eta 0:00:01\r\u001b[K     |████████████████████▏           | 1.4 MB 15.4 MB/s eta 0:00:01\r\u001b[K     |████████████████████▎           | 1.4 MB 15.4 MB/s eta 0:00:01\r\u001b[K     |████████████████████▍           | 1.4 MB 15.4 MB/s eta 0:00:01\r\u001b[K     |████████████████████▋           | 1.5 MB 15.4 MB/s eta 0:00:01\r\u001b[K     |████████████████████▊           | 1.5 MB 15.4 MB/s eta 0:00:01\r\u001b[K     |████████████████████▉           | 1.5 MB 15.4 MB/s eta 0:00:01\r\u001b[K     |█████████████████████           | 1.5 MB 15.4 MB/s eta 0:00:01\r\u001b[K     |█████████████████████▏          | 1.5 MB 15.4 MB/s eta 0:00:01\r\u001b[K     |█████████████████████▎          | 1.5 MB 15.4 MB/s eta 0:00:01\r\u001b[K     |█████████████████████▌          | 1.5 MB 15.4 MB/s eta 0:00:01\r\u001b[K     |█████████████████████▋          | 1.5 MB 15.4 MB/s eta 0:00:01\r\u001b[K     |█████████████████████▊          | 1.5 MB 15.4 MB/s eta 0:00:01\r\u001b[K     |██████████████████████          | 1.5 MB 15.4 MB/s eta 0:00:01\r\u001b[K     |██████████████████████          | 1.6 MB 15.4 MB/s eta 0:00:01\r\u001b[K     |██████████████████████▏         | 1.6 MB 15.4 MB/s eta 0:00:01\r\u001b[K     |██████████████████████▎         | 1.6 MB 15.4 MB/s eta 0:00:01\r\u001b[K     |██████████████████████▌         | 1.6 MB 15.4 MB/s eta 0:00:01\r\u001b[K     |██████████████████████▋         | 1.6 MB 15.4 MB/s eta 0:00:01\r\u001b[K     |██████████████████████▊         | 1.6 MB 15.4 MB/s eta 0:00:01\r\u001b[K     |███████████████████████         | 1.6 MB 15.4 MB/s eta 0:00:01\r\u001b[K     |███████████████████████         | 1.6 MB 15.4 MB/s eta 0:00:01\r\u001b[K     |███████████████████████▏        | 1.6 MB 15.4 MB/s eta 0:00:01\r\u001b[K     |███████████████████████▍        | 1.6 MB 15.4 MB/s eta 0:00:01\r\u001b[K     |███████████████████████▌        | 1.7 MB 15.4 MB/s eta 0:00:01\r\u001b[K     |███████████████████████▋        | 1.7 MB 15.4 MB/s eta 0:00:01\r\u001b[K     |███████████████████████▊        | 1.7 MB 15.4 MB/s eta 0:00:01\r\u001b[K     |████████████████████████        | 1.7 MB 15.4 MB/s eta 0:00:01\r\u001b[K     |████████████████████████        | 1.7 MB 15.4 MB/s eta 0:00:01\r\u001b[K     |████████████████████████▏       | 1.7 MB 15.4 MB/s eta 0:00:01\r\u001b[K     |████████████████████████▍       | 1.7 MB 15.4 MB/s eta 0:00:01\r\u001b[K     |████████████████████████▌       | 1.7 MB 15.4 MB/s eta 0:00:01\r\u001b[K     |████████████████████████▋       | 1.7 MB 15.4 MB/s eta 0:00:01\r\u001b[K     |████████████████████████▉       | 1.8 MB 15.4 MB/s eta 0:00:01\r\u001b[K     |█████████████████████████       | 1.8 MB 15.4 MB/s eta 0:00:01\r\u001b[K     |█████████████████████████       | 1.8 MB 15.4 MB/s eta 0:00:01\r\u001b[K     |█████████████████████████▎      | 1.8 MB 15.4 MB/s eta 0:00:01\r\u001b[K     |█████████████████████████▍      | 1.8 MB 15.4 MB/s eta 0:00:01\r\u001b[K     |█████████████████████████▌      | 1.8 MB 15.4 MB/s eta 0:00:01\r\u001b[K     |█████████████████████████▋      | 1.8 MB 15.4 MB/s eta 0:00:01\r\u001b[K     |█████████████████████████▉      | 1.8 MB 15.4 MB/s eta 0:00:01\r\u001b[K     |██████████████████████████      | 1.8 MB 15.4 MB/s eta 0:00:01\r\u001b[K     |██████████████████████████      | 1.8 MB 15.4 MB/s eta 0:00:01\r\u001b[K     |██████████████████████████▎     | 1.9 MB 15.4 MB/s eta 0:00:01\r\u001b[K     |██████████████████████████▍     | 1.9 MB 15.4 MB/s eta 0:00:01\r\u001b[K     |██████████████████████████▌     | 1.9 MB 15.4 MB/s eta 0:00:01\r\u001b[K     |██████████████████████████▊     | 1.9 MB 15.4 MB/s eta 0:00:01\r\u001b[K     |██████████████████████████▉     | 1.9 MB 15.4 MB/s eta 0:00:01\r\u001b[K     |███████████████████████████     | 1.9 MB 15.4 MB/s eta 0:00:01\r\u001b[K     |███████████████████████████     | 1.9 MB 15.4 MB/s eta 0:00:01\r\u001b[K     |███████████████████████████▎    | 1.9 MB 15.4 MB/s eta 0:00:01\r\u001b[K     |███████████████████████████▍    | 1.9 MB 15.4 MB/s eta 0:00:01\r\u001b[K     |███████████████████████████▌    | 1.9 MB 15.4 MB/s eta 0:00:01\r\u001b[K     |███████████████████████████▊    | 2.0 MB 15.4 MB/s eta 0:00:01\r\u001b[K     |███████████████████████████▉    | 2.0 MB 15.4 MB/s eta 0:00:01\r\u001b[K     |████████████████████████████    | 2.0 MB 15.4 MB/s eta 0:00:01\r\u001b[K     |████████████████████████████▏   | 2.0 MB 15.4 MB/s eta 0:00:01\r\u001b[K     |████████████████████████████▎   | 2.0 MB 15.4 MB/s eta 0:00:01\r\u001b[K     |████████████████████████████▍   | 2.0 MB 15.4 MB/s eta 0:00:01\r\u001b[K     |████████████████████████████▋   | 2.0 MB 15.4 MB/s eta 0:00:01\r\u001b[K     |████████████████████████████▊   | 2.0 MB 15.4 MB/s eta 0:00:01\r\u001b[K     |████████████████████████████▉   | 2.0 MB 15.4 MB/s eta 0:00:01\r\u001b[K     |█████████████████████████████   | 2.0 MB 15.4 MB/s eta 0:00:01\r\u001b[K     |█████████████████████████████▏  | 2.1 MB 15.4 MB/s eta 0:00:01\r\u001b[K     |█████████████████████████████▎  | 2.1 MB 15.4 MB/s eta 0:00:01\r\u001b[K     |█████████████████████████████▍  | 2.1 MB 15.4 MB/s eta 0:00:01\r\u001b[K     |█████████████████████████████▋  | 2.1 MB 15.4 MB/s eta 0:00:01\r\u001b[K     |█████████████████████████████▊  | 2.1 MB 15.4 MB/s eta 0:00:01\r\u001b[K     |█████████████████████████████▉  | 2.1 MB 15.4 MB/s eta 0:00:01\r\u001b[K     |██████████████████████████████  | 2.1 MB 15.4 MB/s eta 0:00:01\r\u001b[K     |██████████████████████████████▏ | 2.1 MB 15.4 MB/s eta 0:00:01\r\u001b[K     |██████████████████████████████▎ | 2.1 MB 15.4 MB/s eta 0:00:01\r\u001b[K     |██████████████████████████████▍ | 2.2 MB 15.4 MB/s eta 0:00:01\r\u001b[K     |██████████████████████████████▋ | 2.2 MB 15.4 MB/s eta 0:00:01\r\u001b[K     |██████████████████████████████▊ | 2.2 MB 15.4 MB/s eta 0:00:01\r\u001b[K     |██████████████████████████████▉ | 2.2 MB 15.4 MB/s eta 0:00:01\r\u001b[K     |███████████████████████████████ | 2.2 MB 15.4 MB/s eta 0:00:01\r\u001b[K     |███████████████████████████████▏| 2.2 MB 15.4 MB/s eta 0:00:01\r\u001b[K     |███████████████████████████████▎| 2.2 MB 15.4 MB/s eta 0:00:01\r\u001b[K     |███████████████████████████████▌| 2.2 MB 15.4 MB/s eta 0:00:01\r\u001b[K     |███████████████████████████████▋| 2.2 MB 15.4 MB/s eta 0:00:01\r\u001b[K     |███████████████████████████████▊| 2.2 MB 15.4 MB/s eta 0:00:01\r\u001b[K     |████████████████████████████████| 2.3 MB 15.4 MB/s eta 0:00:01\r\u001b[K     |████████████████████████████████| 2.3 MB 15.4 MB/s \n",
            "\u001b[?25hRequirement already satisfied: keras>=2.0.0 in /usr/local/lib/python3.7/dist-packages (from mtcnn) (2.7.0)\n",
            "Requirement already satisfied: opencv-python>=4.1.0 in /usr/local/lib/python3.7/dist-packages (from mtcnn) (4.1.2.30)\n",
            "Requirement already satisfied: numpy>=1.14.5 in /usr/local/lib/python3.7/dist-packages (from opencv-python>=4.1.0->mtcnn) (1.19.5)\n",
            "Installing collected packages: mtcnn\n",
            "Successfully installed mtcnn-0.1.1\n",
            "0.1.0\n"
          ]
        }
      ]
    },
    {
      "cell_type": "code",
      "source": [
        "from keras.models import load_model\n",
        "extract_model = load_model('/content/facenet_keras.h5')"
      ],
      "metadata": {
        "id": "T1cWSEFWfa6T"
      },
      "execution_count": null,
      "outputs": []
    },
    {
      "cell_type": "code",
      "source": [
        "from PIL import Image\n",
        "from mtcnn.mtcnn import MTCNN\n",
        "from numpy import asarray\n",
        "from numpy import expand_dims"
      ],
      "metadata": {
        "id": "BR9o4aKHebmo"
      },
      "execution_count": 11,
      "outputs": []
    },
    {
      "cell_type": "code",
      "source": [
        "# extract_face để trích xuất ra ma trận pixel trên khuôn mặt\n",
        "def extract_face(filename, required_size=(160, 160)):\n",
        "\t# tải ảnh từ filename\n",
        "\timage = Image.open(filename)\n",
        "\t# chuyển ảnh về arrays\n",
        "\tpixels = asarray(image)\n",
        "\t# tạo detector \n",
        "\tdetector = MTCNN()\n",
        "\t# nhận diện khuôn mặt trên bức ảnh\n",
        "\tresults = detector.detect_faces(pixels)\n",
        "\t# trích xuất ra tọa độ góc trái dưới của bounding box và chiều dài,rộng của bounding box ở khuôn mặt thứ nhất vì đang làm với bài toán có 1 khuôn mặt\n",
        "\tx1, y1, width, height = results[0]['box']\n",
        "\t# lấy giá trị tuyệt đối vì đôi khi x1,y1 có giá trị âm\n",
        "\tx1, y1 = abs(x1), abs(y1)\n",
        "  # x2,y2 là giá trị góc trên phải của bounding box\n",
        "\tx2, y2 = x1 + width, y1 + height \n",
        "\t#trích xuất ma trận chỉ gồm khuôn mặt \n",
        "\tface = pixels[y1:y2, x1:x2]\n",
        "\t# vì model facenet thực hiện vector embedding chỉ nhận ma trận có kích thước 160x160 nên phải resize lại ảnh khuôn mặt \n",
        "\t#chuyển ma trận chỉ gồm khuôn mặt thành ảnh\n",
        "\timage = Image.fromarray(face)\n",
        "  #resize lại ảnh với kích thước 160x160\n",
        "\timage = image.resize(required_size)\n",
        "  #chuyển ảnh về array\n",
        "\tface_array = asarray(image)\n",
        "\treturn face_array\n",
        "\n",
        "#Hàm get_embedding chuyển ma trận ảnh trả về từ hàm extract_faces thành vector 128 chiều => giảm chiều dữ liệu\n",
        "def get_embedding(model, face_pixels):\n",
        "\t# Vì các giá trị pixels RGB có giá trị từ 0-255 nên chia cho 255 để giảm kích thức dữ liệu => tăng tốc độ chạy thuật toán, tránh bùng nổ gradient\n",
        "\tface_pixels = face_pixels.astype('float32')/255.0\n",
        "\t# transform face into one sample\n",
        "\tsamples = expand_dims(face_pixels, axis=0); \n",
        "\t# make prediction to get embedding\n",
        "\tyhat = model.predict(samples)\n",
        "\treturn yhat[0]"
      ],
      "metadata": {
        "id": "YSHR9BxIfCTf"
      },
      "execution_count": null,
      "outputs": []
    },
    {
      "cell_type": "code",
      "source": [
        "import numpy as np\n",
        "\n",
        "\n",
        "#load model\n",
        "import pickle\n",
        "\n",
        "with open('model.pkl', 'rb') as f:\n",
        "    svc_model = pickle.load(f)\n"
      ],
      "metadata": {
        "id": "y7CB3M7WdiGI"
      },
      "execution_count": 8,
      "outputs": []
    },
    {
      "cell_type": "code",
      "source": [
        "import matplotlib.pyplot as plt\n",
        "\n",
        "def Prediction(img,model):\n",
        "   #pixels là array khuôn mặt trích xuất từ ảnh img\n",
        "   pixels=extract_face(img)\n",
        "   #arr là vector embedding bằng model facenet\n",
        "   arr=get_embedding(extract_model,pixels)\n",
        "   samples=expand_dims(arr,axis=0)\n",
        "   predict=model.predict(samples)\n",
        "   im = Image.open(img)\n",
        "   im_arr=asarray(im)\n",
        "   #tải ảnh dự đoán \n",
        "   plt.imshow(im_arr)\n",
        "   if (predict[0]==0): print(\"Female\")\n",
        "   else:print(\"Male\")"
      ],
      "metadata": {
        "id": "Kll3puH4eAaa"
      },
      "execution_count": null,
      "outputs": []
    }
  ]
}