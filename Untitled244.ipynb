{
  "nbformat": 4,
  "nbformat_minor": 0,
  "metadata": {
    "colab": {
      "name": "Untitled244.ipynb",
      "provenance": [],
      "collapsed_sections": [],
      "authorship_tag": "ABX9TyMW42tY6Lnl7E8BeBjHhFoA",
      "include_colab_link": true
    },
    "kernelspec": {
      "name": "python3",
      "display_name": "Python 3"
    },
    "language_info": {
      "name": "python"
    }
  },
  "cells": [
    {
      "cell_type": "markdown",
      "metadata": {
        "id": "view-in-github",
        "colab_type": "text"
      },
      "source": [
        "<a href=\"https://colab.research.google.com/github/lephuocdat2000/GenderClassification_only_inference/blob/main/Untitled244.ipynb\" target=\"_parent\"><img src=\"https://colab.research.google.com/assets/colab-badge.svg\" alt=\"Open In Colab\"/></a>"
      ]
    },
    {
      "cell_type": "code",
      "source": [
        "pip install facenet-pytorch"
      ],
      "metadata": {
        "colab": {
          "base_uri": "https://localhost:8080/"
        },
        "id": "8dt2HyIQxhmd",
        "outputId": "ca122a87-424e-4075-904d-6f3483b25ca6"
      },
      "execution_count": 2,
      "outputs": [
        {
          "output_type": "stream",
          "name": "stdout",
          "text": [
            "Requirement already satisfied: facenet-pytorch in /usr/local/lib/python3.7/dist-packages (2.5.2)\n",
            "Requirement already satisfied: numpy in /usr/local/lib/python3.7/dist-packages (from facenet-pytorch) (1.19.5)\n",
            "Requirement already satisfied: requests in /usr/local/lib/python3.7/dist-packages (from facenet-pytorch) (2.23.0)\n",
            "Requirement already satisfied: pillow in /usr/local/lib/python3.7/dist-packages (from facenet-pytorch) (7.1.2)\n",
            "Requirement already satisfied: torchvision in /usr/local/lib/python3.7/dist-packages (from facenet-pytorch) (0.11.1+cu111)\n",
            "Requirement already satisfied: chardet<4,>=3.0.2 in /usr/local/lib/python3.7/dist-packages (from requests->facenet-pytorch) (3.0.4)\n",
            "Requirement already satisfied: urllib3!=1.25.0,!=1.25.1,<1.26,>=1.21.1 in /usr/local/lib/python3.7/dist-packages (from requests->facenet-pytorch) (1.24.3)\n",
            "Requirement already satisfied: idna<3,>=2.5 in /usr/local/lib/python3.7/dist-packages (from requests->facenet-pytorch) (2.10)\n",
            "Requirement already satisfied: certifi>=2017.4.17 in /usr/local/lib/python3.7/dist-packages (from requests->facenet-pytorch) (2021.10.8)\n",
            "Requirement already satisfied: torch==1.10.0 in /usr/local/lib/python3.7/dist-packages (from torchvision->facenet-pytorch) (1.10.0+cu111)\n",
            "Requirement already satisfied: typing-extensions in /usr/local/lib/python3.7/dist-packages (from torch==1.10.0->torchvision->facenet-pytorch) (3.10.0.2)\n"
          ]
        }
      ]
    },
    {
      "cell_type": "code",
      "source": [
        "from google.colab import drive\n",
        "drive.mount('/content/drive')"
      ],
      "metadata": {
        "colab": {
          "base_uri": "https://localhost:8080/"
        },
        "id": "jm5ayU6kyDkj",
        "outputId": "b9ef96b7-a747-4e96-b2f1-6a5150796de9"
      },
      "execution_count": 3,
      "outputs": [
        {
          "output_type": "stream",
          "name": "stdout",
          "text": [
            "Drive already mounted at /content/drive; to attempt to forcibly remount, call drive.mount(\"/content/drive\", force_remount=True).\n"
          ]
        }
      ]
    },
    {
      "cell_type": "code",
      "execution_count": 4,
      "metadata": {
        "id": "A0RB1Wusxghs"
      },
      "outputs": [],
      "source": [
        "import cv2\n",
        "from facenet_pytorch import MTCNN\n",
        "import torch\n",
        "import numpy as np\n",
        "device =  torch.device('cuda:0' if torch.cuda.is_available() else 'cpu')\n",
        "\n",
        "mtcnn = MTCNN(thresholds= [0.7, 0.7, 0.8] ,keep_all=True, device = device)\n",
        "\n",
        "main_folder='/content/drive/My Drive/Final_Project/'\n",
        "\n",
        "main_face_path = main_folder+'faces-dataset.npz'\n",
        "main_data = np.load(main_face_path)\n",
        "main_trainX,main_trainY,main_testX,main_testY=main_data['arr_0'],main_data['arr_1'],main_data['arr_2'],main_data['arr_3']\n",
        "\n",
        "add_face_path = main_folder + 'add-faces-dataset.npz' \n",
        "add_data = np.load(add_face_path)\n",
        "add_trainX,add_trainY,add_testX,add_testY=add_data['arr_0'],add_data['arr_1'],add_data['arr_2'],add_data['arr_3']\n",
        "\n",
        "trainX = np.append(main_trainX,add_trainX,axis=0)\n",
        "trainY = np.append(main_trainY,add_trainY,axis=0)\n",
        "testX = np.append(main_testX,add_testX,axis=0)\n",
        "testY = np.append(main_testY,add_testY,axis=0)"
      ]
    },
    {
      "cell_type": "code",
      "source": [
        "from torchvision import transforms\n",
        "from facenet_pytorch import InceptionResnetV1\n",
        "from PIL import Image\n",
        "from numpy import asarray\n",
        "\n",
        "def fixed_image_standardization(image_tensor):\n",
        "    processed_tensor = image_tensor/255\n",
        "    return processed_tensor\n",
        "\n",
        "model = InceptionResnetV1(\n",
        "    classify=False,\n",
        "    pretrained=\"casia-webface\"\n",
        ").eval()\n"
      ],
      "metadata": {
        "id": "WAy5woPX2AKa"
      },
      "execution_count": 5,
      "outputs": []
    },
    {
      "cell_type": "code",
      "source": [
        ""
      ],
      "metadata": {
        "id": "9wgtsXWjOQ24"
      },
      "execution_count": 21,
      "outputs": []
    },
    {
      "cell_type": "code",
      "source": [
        "train_dl = zip(trainX,trainY)\n",
        "for i, (input,target) in enumerate(train_dl):\n",
        "    print(type(input))\n",
        "    break"
      ],
      "metadata": {
        "colab": {
          "base_uri": "https://localhost:8080/"
        },
        "id": "S6YDC-0TOnqO",
        "outputId": "6477bbb7-6cc6-4289-d809-becd872666e4"
      },
      "execution_count": 28,
      "outputs": [
        {
          "output_type": "stream",
          "name": "stdout",
          "text": [
            "<class 'numpy.ndarray'>\n"
          ]
        }
      ]
    },
    {
      "cell_type": "code",
      "source": [
        "from numpy import expand_dims\n",
        "\n",
        "#tạo embed\n",
        "def image_embedding(image_pixels):\n",
        "  embed_pixels = []\n",
        "  count = 0\n",
        "  for pixels in image_pixels:\n",
        "     pixels = np.reshape(pixels,(pixels.shape[2],pixels.shape[0],pixels.shape[1]))\n",
        "     pixels = expand_dims(pixels,axis=0)\n",
        "     pixels = torch.tensor(pixels).float()\n",
        "     embed  = model(pixels).to(device)\n",
        "     embed_pixels.append(embed)\n",
        "     count+=1\n",
        "  return embed_pixels\n",
        "\n",
        "from torch.utils.data import DataLoader\n",
        "\n",
        "test_X = DataLoader(testX,batch_size=64,shuffle=False)"
      ],
      "metadata": {
        "id": "QKMGl8VW795f"
      },
      "execution_count": 6,
      "outputs": []
    },
    {
      "cell_type": "code",
      "source": [
        "for i in test_X:\n",
        "  print(i.shape)"
      ],
      "metadata": {
        "colab": {
          "base_uri": "https://localhost:8080/"
        },
        "id": "jGzq8HvpLhtG",
        "outputId": "3ad4cca5-2994-4708-81c3-6ca727302b04"
      },
      "execution_count": 8,
      "outputs": [
        {
          "output_type": "stream",
          "name": "stdout",
          "text": [
            "torch.Size([64, 160, 160, 3])\n",
            "torch.Size([64, 160, 160, 3])\n",
            "torch.Size([64, 160, 160, 3])\n",
            "torch.Size([64, 160, 160, 3])\n",
            "torch.Size([64, 160, 160, 3])\n",
            "torch.Size([64, 160, 160, 3])\n",
            "torch.Size([56, 160, 160, 3])\n"
          ]
        }
      ]
    },
    {
      "cell_type": "code",
      "source": [
        ""
      ],
      "metadata": {
        "id": "6eezJHnCNK3A"
      },
      "execution_count": 7,
      "outputs": []
    }
  ]
}